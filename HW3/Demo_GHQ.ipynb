{
 "cells": [
  {
   "cell_type": "markdown",
   "metadata": {},
   "source": [
    "# Gauss-Hermite Quadrature\n",
    "## Efficient numerical integration method with weight function exp(-x^2)\n",
    "## You need this for implementing Kennedy's method"
   ]
  },
  {
   "cell_type": "markdown",
   "metadata": {},
   "source": [
    "There are two versions: \n",
    "* [Probabilists’ Gauss-Hermite module](https://docs.scipy.org/doc/numpy-1.13.0/reference/routines.polynomials.hermite_e.html):\n",
    "integration weight is the standard normal PDF: exp(-x^2/2)\n",
    "\n",
    "* [Physicists’ Gauss-Hermite module](https://docs.scipy.org/doc/numpy-1.13.0/reference/routines.polynomials.hermite.html):\n",
    "integration weight is exp(-x^2)\n",
    "\n",
    "We mostly use __Probabilists’ Gauss-Hermite module__. You still need to devide the weight by sqrt(2*pi) for use with normal PDF"
   ]
  },
  {
   "cell_type": "code",
   "execution_count": 1,
   "metadata": {},
   "outputs": [],
   "source": [
    "import numpy as np\n",
    "import numpy.polynomial as nppoly\n",
    "import scipy\n",
    "import scipy.stats as ss\n",
    "import scipy.special as spsp\n",
    "import matplotlib.pyplot as plt"
   ]
  },
  {
   "cell_type": "code",
   "execution_count": 2,
   "metadata": {},
   "outputs": [],
   "source": [
    "const = 1/np.sqrt(2.0*np.pi)"
   ]
  },
  {
   "cell_type": "code",
   "execution_count": 3,
   "metadata": {},
   "outputs": [
    {
     "name": "stdout",
     "output_type": "stream",
     "text": [
      "[-7.61904854 -6.51059016 -5.57873881 -4.73458133 -3.94396735 -3.18901482\n",
      " -2.45866361 -1.74524732 -1.04294535 -0.34696416  0.34696416  1.04294535\n",
      "  1.74524732  2.45866361  3.18901482  3.94396735  4.73458133  5.57873881\n",
      "  6.51059016  7.61904854]\n",
      "[1.25780067e-13 2.48206236e-10 6.12749026e-08 4.40212109e-06\n",
      " 1.28826280e-04 1.83010313e-03 1.39978374e-02 6.15063721e-02\n",
      " 1.61739334e-01 2.60793063e-01 2.60793063e-01 1.61739334e-01\n",
      " 6.15063721e-02 1.39978374e-02 1.83010313e-03 1.28826280e-04\n",
      " 4.40212109e-06 6.12749026e-08 2.48206236e-10 1.25780067e-13]\n"
     ]
    }
   ],
   "source": [
    "z, w = nppoly.hermite_e.hermegauss(deg=20)\n",
    "w = w*const\n",
    "print(z)\n",
    "print(w)"
   ]
  },
  {
   "cell_type": "code",
   "execution_count": 4,
   "metadata": {},
   "outputs": [
    {
     "data": {
      "image/png": "[encoded data removed]",
      "text/plain": [
       "<Figure size 432x288 with 1 Axes>"
      ]
     },
     "metadata": {
      "needs_background": "light"
     },
     "output_type": "display_data"
    }
   ],
   "source": [
    "pdf = ss.norm.pdf(z)\n",
    "plt.plot(z, np.log(w))\n",
    "plt.plot(z, np.log(pdf))\n",
    "plt.grid()\n",
    "plt.show()"
   ]
  },
  {
   "cell_type": "markdown",
   "metadata": {},
   "source": [
    "## Exact integration of polynomials with degree upto _2*deg-1_"
   ]
  },
  {
   "cell_type": "code",
   "execution_count": 5,
   "metadata": {},
   "outputs": [
    {
     "data": {
      "text/plain": [
       "1.0"
      ]
     },
     "execution_count": 5,
     "metadata": {},
     "output_type": "execute_result"
    }
   ],
   "source": [
    "z, w = nppoly.hermite_e.hermegauss(deg=3)\n",
    "w = w*const\n",
    "sum(w)"
   ]
  },
  {
   "cell_type": "code",
   "execution_count": 6,
   "metadata": {},
   "outputs": [
    {
     "name": "stdout",
     "output_type": "stream",
     "text": [
      "[0.9999999999999998, 2.9999999999999996, 9.0, 27.000000000000004, 81.00000000000003, 243.00000000000009, 729.0000000000005]\n"
     ]
    }
   ],
   "source": [
    "# Let's test on the moments of normal distribution\n",
    "deg = np.array([2,4,6,8,10,12,14])\n",
    "moments = [sum(z**2 * w), sum(z**4 * w), sum(z**6 * w), sum(z**8 * w), sum(z**10 * w), sum(z**12 * w), sum(z**14 * w)]\n",
    "print(moments)"
   ]
  },
  {
   "cell_type": "code",
   "execution_count": 7,
   "metadata": {},
   "outputs": [
    {
     "data": {
      "text/plain": [
       "array([1.00000e+00, 3.00000e+00, 1.50000e+01, 1.05000e+02, 9.45000e+02,\n",
       "       1.03950e+04, 1.35135e+05])"
      ]
     },
     "execution_count": 7,
     "metadata": {},
     "output_type": "execute_result"
    }
   ],
   "source": [
    "# luckily we know the exact answer: (2*deg-1)!! \n",
    "spsp.factorial2([1,3,5,7,9,11,13])"
   ]
  },
  {
   "cell_type": "code",
   "execution_count": 8,
   "metadata": {},
   "outputs": [
    {
     "data": {
      "text/plain": [
       "array([2, 4])"
      ]
     },
     "execution_count": 8,
     "metadata": {},
     "output_type": "execute_result"
    }
   ],
   "source": [
    "# Find out upto which degree integration is correct\n",
    "deg[np.abs(moments - spsp.factorial2([1,3,5,7,9,11,13])) < 0.1 ]"
   ]
  },
  {
   "cell_type": "markdown",
   "metadata": {},
   "source": [
    "# Overall GHQ is very accurate for integrating smooth functions"
   ]
  },
  {
   "cell_type": "markdown",
   "metadata": {},
   "source": [
    "Let's test on Geometric Brownian Motion:\n",
    "\n",
    "$ S_T = S_0 exp\\left(\\sigma\\sqrt{T} z - \\frac12 \\sigma^2 T\\right)$"
   ]
  },
  {
   "cell_type": "code",
   "execution_count": 9,
   "metadata": {},
   "outputs": [],
   "source": [
    "spot = 100\n",
    "texp = 2\n",
    "vol = 0.2"
   ]
  },
  {
   "cell_type": "code",
   "execution_count": 10,
   "metadata": {},
   "outputs": [
    {
     "name": "stdout",
     "output_type": "stream",
     "text": [
      "[ 23.35839909  31.983697    43.79396334  59.96527623  82.10799112\n",
      " 112.42710165 153.94181507 210.78620794 288.6209016  395.19675245]\n"
     ]
    }
   ],
   "source": [
    "z = np.linspace(-5,5,10)\n",
    "price = spot * np.exp(vol*np.sqrt(texp)*z - 0.5*vol*vol*texp)\n",
    "print(price)"
   ]
  },
  {
   "cell_type": "code",
   "execution_count": null,
   "metadata": {},
   "outputs": [],
   "source": []
  },
  {
   "cell_type": "code",
   "execution_count": 11,
   "metadata": {},
   "outputs": [
    {
     "data": {
      "text/plain": [
       "-1.4210854715202004e-14"
      ]
     },
     "execution_count": 11,
     "metadata": {},
     "output_type": "execute_result"
    }
   ],
   "source": [
    "# Let's check the expectation of the prices are same as 100 (assuming 0 interest rate)\n",
    "z, w = nppoly.hermite_e.hermegauss(deg=10)\n",
    "w = w*const\n",
    "price = spot * np.exp(vol*np.sqrt(texp)*z - 0.5*vol*vol*texp)\n",
    "price_mean = sum(price * w)\n",
    "price_mean - 100"
   ]
  },
  {
   "cell_type": "code",
   "execution_count": 12,
   "metadata": {},
   "outputs": [
    {
     "data": {
      "image/png": "[encoded data removed]",
      "text/plain": [
       "<Figure size 432x288 with 1 Axes>"
      ]
     },
     "metadata": {
      "needs_background": "light"
     },
     "output_type": "display_data"
    }
   ],
   "source": [
    "plt.plot(price, w, 'o-')\n",
    "plt.grid()\n",
    "plt.show()"
   ]
  },
  {
   "cell_type": "code",
   "execution_count": null,
   "metadata": {},
   "outputs": [],
   "source": []
  },
  {
   "cell_type": "markdown",
   "metadata": {},
   "source": [
    "## Gauss-general Laguerre quadrature.\n",
    "https://docs.scipy.org/doc/scipy/reference/generated/scipy.special.roots_genlaguerre.html"
   ]
  },
  {
   "cell_type": "code",
   "execution_count": 13,
   "metadata": {},
   "outputs": [
    {
     "data": {
      "text/plain": [
       "(array([ 0.57631386,  1.55934346,  3.00371036,  4.94201907,  7.42270711,\n",
       "        10.51881998, 14.34451459, 19.09178003, 25.13064781, 33.41014374]),\n",
       " array([7.09984698e-02, 3.09139688e-01, 3.77000902e-01, 1.91804921e-01,\n",
       "        4.56552110e-02, 5.13852388e-03, 2.57313277e-04, 4.94361316e-06,\n",
       "        2.65699602e-08, 1.75587516e-11]))"
      ]
     },
     "execution_count": 13,
     "metadata": {},
     "output_type": "execute_result"
    }
   ],
   "source": [
    "scale = 1\n",
    "n_quad = 10\n",
    "x, w = spsp.roots_genlaguerre(n_quad, alpha=2)\n",
    "\n",
    "x *= scale\n",
    "w /= w.sum()\n",
    "x, w"
   ]
  },
  {
   "cell_type": "markdown",
   "metadata": {},
   "source": [
    "## Gauss-Legendre quadrature.\n",
    "https://docs.scipy.org/doc/scipy/reference/generated/scipy.special.roots_legendre.html"
   ]
  },
  {
   "cell_type": "code",
   "execution_count": 14,
   "metadata": {},
   "outputs": [
    {
     "data": {
      "text/plain": [
       "(array([-0.97390653, -0.86506337, -0.67940957, -0.43339539, -0.14887434,\n",
       "         0.14887434,  0.43339539,  0.67940957,  0.86506337,  0.97390653]),\n",
       " array([0.03333567, 0.07472567, 0.10954318, 0.13463336, 0.14776211,\n",
       "        0.14776211, 0.13463336, 0.10954318, 0.07472567, 0.03333567]))"
      ]
     },
     "execution_count": 14,
     "metadata": {},
     "output_type": "execute_result"
    }
   ],
   "source": [
    "scale = 1\n",
    "n_quad = 10\n",
    "x, w = spsp.roots_legendre(n_quad)\n",
    "\n",
    "x *= scale\n",
    "w /= w.sum()\n",
    "x, w"
   ]
  },
  {
   "cell_type": "markdown",
   "metadata": {},
   "source": [
    "# Gauss-Jacobi Quadrature\n",
    "\n",
    "https://docs.scipy.org/doc/scipy/reference/generated/scipy.special.roots_jacobi.html"
   ]
  },
  {
   "cell_type": "code",
   "execution_count": 15,
   "metadata": {},
   "outputs": [
    {
     "data": {
      "text/plain": [
       "(array([-0.92758001, -0.79101274, -0.59842537, -0.36348091, -0.10287083,\n",
       "         0.16488663,  0.42076434,  0.64657859,  0.82627988,  0.94708264]),\n",
       " array([0.00305011, 0.02204033, 0.06805619, 0.13428174, 0.19377731,\n",
       "        0.21515904, 0.18491321, 0.11850472, 0.05042276, 0.00979459]))"
      ]
     },
     "execution_count": 15,
     "metadata": {},
     "output_type": "execute_result"
    }
   ],
   "source": [
    "scale = 1\n",
    "n_quad = 10\n",
    "x, w = spsp.roots_jacobi(n_quad, alpha=1, beta=1.5)\n",
    "\n",
    "x *= scale\n",
    "w /= w.sum()\n",
    "x, w"
   ]
  },
  {
   "cell_type": "code",
   "execution_count": null,
   "metadata": {},
   "outputs": [],
   "source": []
  }
 ],
 "metadata": {
  "anaconda-cloud": {},
  "kernelspec": {
   "display_name": "Python 3 (ipykernel)",
   "language": "python",
   "name": "python3"
  },
  "language_info": {
   "codemirror_mode": {
    "name": "ipython",
    "version": 3
   },
   "file_extension": ".py",
   "mimetype": "text/x-python",
   "name": "python",
   "nbconvert_exporter": "python",
   "pygments_lexer": "ipython3",
   "version": "3.8.11"
  }
 },
 "nbformat": 4,
 "nbformat_minor": 1
}
